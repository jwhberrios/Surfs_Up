{
 "cells": [
  {
   "cell_type": "code",
   "execution_count": 4,
   "id": "1baef376",
   "metadata": {},
   "outputs": [],
   "source": [
    "#Add dependencies\n",
    "import datetime as dt\n",
    "import numpy as np\n",
    "import pandas as pd\n",
    "import sqlalchemy\n",
    "from sqlalchemy.ext.automap import automap_base\n",
    "from sqlalchemy.orm import Session\n",
    "from sqlalchemy import create_engine, func\n",
    "from flask import Flask, jsonify"
   ]
  },
  {
   "cell_type": "code",
   "execution_count": 5,
   "id": "c6504eca",
   "metadata": {},
   "outputs": [],
   "source": [
    "#Set up database engine\n",
    "engine = create_engine(\"sqlite:///hawaii.sqlite\")"
   ]
  },
  {
   "cell_type": "code",
   "execution_count": 10,
   "id": "a2f88451",
   "metadata": {},
   "outputs": [],
   "source": [
    "#Reflect database into classes\n",
    "Base = automap_base()"
   ]
  },
  {
   "cell_type": "code",
   "execution_count": 11,
   "id": "2573c633",
   "metadata": {},
   "outputs": [],
   "source": [
    "#Reflect the database:\n",
    "Base.prepare(engine, reflect=True)"
   ]
  },
  {
   "cell_type": "code",
   "execution_count": 12,
   "id": "f81f1a33",
   "metadata": {},
   "outputs": [],
   "source": [
    "#Save references to table by creating variables\n",
    "Measurement = Base.classes.measurement\n",
    "Station = Base.classes.station"
   ]
  },
  {
   "cell_type": "code",
   "execution_count": 13,
   "id": "30ba7f73",
   "metadata": {},
   "outputs": [],
   "source": [
    "#Create session link from Python\n",
    "session = Session(engine)"
   ]
  },
  {
   "cell_type": "code",
   "execution_count": null,
   "id": "4ddf2b53",
   "metadata": {},
   "outputs": [],
   "source": [
    "## SET UP FLASK ##"
   ]
  },
  {
   "cell_type": "code",
   "execution_count": 16,
   "id": "e24b00e1",
   "metadata": {},
   "outputs": [],
   "source": [
    "#Define Flask App\n",
    "app = Flask(__name__)"
   ]
  },
  {
   "cell_type": "code",
   "execution_count": 18,
   "id": "84aa8d39",
   "metadata": {},
   "outputs": [],
   "source": [
    "#Define welcome route\n",
    "@app.route(\"/\")\n",
    "\n",
    "#Create function\n",
    "def welcome():\n",
    "    return\n",
    "#Add the precipitation, stations, tobs, and temp routes for return statement.\n",
    "    '''\n",
    "    Welcome to the Climate Analysis API!\n",
    "    Available Routes:\n",
    "    /api/v1.0/precipitation\n",
    "    /api/v1.0/stations\n",
    "    /api/v1.0/tobs\n",
    "    /api/v1.0/temp/start/end\n",
    "    ''')\n"
   ]
  },
  {
   "cell_type": "code",
   "execution_count": null,
   "id": "22689307",
   "metadata": {},
   "outputs": [],
   "source": []
  }
 ],
 "metadata": {
  "kernelspec": {
   "display_name": "Python 3 (ipykernel)",
   "language": "python",
   "name": "python3"
  },
  "language_info": {
   "codemirror_mode": {
    "name": "ipython",
    "version": 3
   },
   "file_extension": ".py",
   "mimetype": "text/x-python",
   "name": "python",
   "nbconvert_exporter": "python",
   "pygments_lexer": "ipython3",
   "version": "3.9.7"
  }
 },
 "nbformat": 4,
 "nbformat_minor": 5
}
